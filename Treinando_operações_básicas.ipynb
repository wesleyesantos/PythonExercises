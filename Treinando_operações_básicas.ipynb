{
  "cells": [
    {
      "cell_type": "markdown",
      "metadata": {
        "id": "view-in-github",
        "colab_type": "text"
      },
      "source": [
        "<a href=\"https://colab.research.google.com/github/wesleyesantos/PythonExercises/blob/main/Treinando_opera%C3%A7%C3%B5es_b%C3%A1sicas.ipynb\" target=\"_parent\"><img src=\"https://colab.research.google.com/assets/colab-badge.svg\" alt=\"Open In Colab\"/></a>"
      ]
    },
    {
      "cell_type": "markdown",
      "source": [
        "##Treinando funções básicas do python"
      ],
      "metadata": {
        "id": "A5UOXrGADl9u"
      }
    },
    {
      "cell_type": "code",
      "source": [
        "#Criando uma lista\n",
        "notas = [0, 0, 9.0, 8.0, 5.0, 10.0, 7.0, 7.5, 4.0, 10.0, 7.0, 7.0, 8.0, 8.0, 7.5]"
      ],
      "metadata": {
        "id": "6iSp0_G3DkA1"
      },
      "execution_count": 1,
      "outputs": []
    },
    {
      "cell_type": "code",
      "source": [
        "soma = 0\n",
        "quantidade = len(notas)\n",
        "\n",
        "for nota in notas:\n",
        "  soma += nota\n",
        "  percentual = soma/quantidade\n",
        "  print(\"%.2f\" % percentual)\n"
      ],
      "metadata": {
        "colab": {
          "base_uri": "https://localhost:8080/"
        },
        "id": "yhyqvrLVDufx",
        "outputId": "4c7d9493-3846-443d-d5e5-4570b5d6361a"
      },
      "execution_count": 27,
      "outputs": [
        {
          "output_type": "stream",
          "name": "stdout",
          "text": [
            "0.00\n",
            "0.00\n",
            "0.60\n",
            "1.13\n",
            "1.47\n",
            "2.13\n",
            "2.60\n",
            "3.10\n",
            "3.37\n",
            "4.03\n",
            "4.50\n",
            "4.97\n",
            "5.50\n",
            "6.03\n",
            "6.53\n"
          ]
        }
      ]
    },
    {
      "cell_type": "code",
      "source": [
        "print(\"%d\" % percentual)"
      ],
      "metadata": {
        "colab": {
          "base_uri": "https://localhost:8080/"
        },
        "id": "3apWgdgrElKA",
        "outputId": "aeaf0e34-b43b-4cde-f61f-7a79d669a4f7"
      },
      "execution_count": 31,
      "outputs": [
        {
          "output_type": "stream",
          "name": "stdout",
          "text": [
            "6\n"
          ]
        }
      ]
    },
    {
      "cell_type": "code",
      "source": [],
      "metadata": {
        "id": "C7fNtC2KHRNv"
      },
      "execution_count": null,
      "outputs": []
    }
  ],
  "metadata": {
    "colab": {
      "name": "Treinando operações básicas",
      "toc_visible": true,
      "provenance": [],
      "include_colab_link": true
    },
    "kernelspec": {
      "display_name": "Python 3",
      "name": "python3"
    }
  },
  "nbformat": 4,
  "nbformat_minor": 0
}